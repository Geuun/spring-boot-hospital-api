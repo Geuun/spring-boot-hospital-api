{
 "cells": [
  {
   "cell_type": "code",
   "execution_count": 1,
   "metadata": {},
   "outputs": [],
   "source": [
    "import numpy as np\n",
    "import pandas as pd"
   ]
  },
  {
   "cell_type": "code",
   "execution_count": 32,
   "id": "86cefd7b",
   "metadata": {},
   "outputs": [
    {
     "name": "stderr",
     "output_type": "stream",
     "text": [
      "/var/folders/lm/n8nzmr_n7vgg9l0b5737gqrm0000gn/T/ipykernel_27271/397837802.py:1: DtypeWarning: Columns (17,20,22,26,29,35) have mixed types. Specify dtype option on import or set low_memory=False.\n",
      "  df = pd.read_csv(\"./fulldata_01_01_02_P_의원.csv\", encoding='utf-8', index_col=0)\n"
     ]
    }
   ],
   "source": [
    "df = pd.read_csv(\"./fulldata_01_01_02_P_의원.csv\", encoding='utf-8', index_col=0)"
   ]
  },
  {
   "cell_type": "code",
   "execution_count": 3,
   "id": "6bd00c96",
   "metadata": {},
   "outputs": [
    {
     "data": {
      "text/plain": [
       "Index(['개방서비스명', '개방서비스아이디', '개방자치단체코드', '관리번호', '인허가일자', '인허가취소일자',\n",
       "       '영업상태구분코드', '영업상태명', '상세영업상태코드', '상세영업상태명', '폐업일자', '휴업시작일자', '휴업종료일자',\n",
       "       '재개업일자', '소재지전화', '소재지면적', '소재지우편번호', '소재지전체주소', '도로명전체주소', '도로명우편번호',\n",
       "       '사업장명', '최종수정시점', '데이터갱신구분', '데이터갱신일자', '업태구분명', '좌표정보(x)', '좌표정보(y)',\n",
       "       '의료기관종별명', '의료인수', '입원실수', '병상수', '총면적', '진료과목내용', '진료과목내용명', '지정취소일자',\n",
       "       '완화의료지정형태', '완화의료담당부서명', '구급차특수', '구급차일반', '총인원', '구조사수', '허가병상수',\n",
       "       '최초지정일자'],\n",
       "      dtype='object')"
      ]
     },
     "execution_count": 3,
     "metadata": {},
     "output_type": "execute_result"
    }
   ],
   "source": [
    "df.columns"
   ]
  },
  {
   "cell_type": "code",
   "execution_count": 4,
   "id": "041468d5",
   "metadata": {},
   "outputs": [],
   "source": [
    "\n",
    "total_address = df['도로명전체주소'].str.replace(',', '')"
   ]
  },
  {
   "cell_type": "code",
   "execution_count": 5,
   "id": "f9883dbc",
   "metadata": {},
   "outputs": [
    {
     "data": {
      "text/plain": [
       "번호\n",
       "1                 광주광역시 북구 동문대로 24 3층 (풍향동)\n",
       "2                 광주광역시 북구 설죽로 518 2층 (일곡동)\n",
       "3                 광주광역시 북구 설죽로 495 3층 (일곡동)\n",
       "4              광주광역시 북구 임방울대로 1063 4층 (용두동)\n",
       "5         광주광역시 북구 설죽로 565 2층 (일곡동 한국아파트상가)\n",
       "                        ...                \n",
       "113824           서울특별시 영등포구 도림로 227-1 (신길동)\n",
       "113825                                  NaN\n",
       "113826     충청남도 천안시 동남구 만남로 52 문타워 7층 (신부동)\n",
       "113827         인천광역시 남동구 서창남순환로 56 3층 (서창동)\n",
       "113828     서울특별시 강남구 논현로 848 서경대학교 8층 (신사동)\n",
       "Name: 도로명전체주소, Length: 113828, dtype: object"
      ]
     },
     "execution_count": 5,
     "metadata": {},
     "output_type": "execute_result"
    }
   ],
   "source": [
    "df[\"도로명전체주소\"] = total_address\n",
    "df[\"도로명전체주소\"]"
   ]
  },
  {
   "cell_type": "code",
   "execution_count": 6,
   "id": "8a9e02ee",
   "metadata": {},
   "outputs": [],
   "source": [
    "df.to_csv(\"./PreprocessedHospitalData.csv\", encoding='utf-8')"
   ]
  },
  {
   "cell_type": "code",
   "execution_count": 7,
   "id": "db11289e",
   "metadata": {},
   "outputs": [
    {
     "name": "stdout",
     "output_type": "stream",
     "text": [
      "<class 'pandas.core.frame.DataFrame'>\n",
      "Int64Index: 113828 entries, 1 to 113828\n",
      "Data columns (total 43 columns):\n",
      " #   Column     Non-Null Count   Dtype  \n",
      "---  ------     --------------   -----  \n",
      " 0   개방서비스명     113828 non-null  object \n",
      " 1   개방서비스아이디   113828 non-null  object \n",
      " 2   개방자치단체코드   113828 non-null  int64  \n",
      " 3   관리번호       113828 non-null  object \n",
      " 4   인허가일자      113828 non-null  int64  \n",
      " 5   인허가취소일자    0 non-null       float64\n",
      " 6   영업상태구분코드   113828 non-null  int64  \n",
      " 7   영업상태명      113828 non-null  object \n",
      " 8   상세영업상태코드   113828 non-null  int64  \n",
      " 9   상세영업상태명    113828 non-null  object \n",
      " 10  폐업일자       41295 non-null   float64\n",
      " 11  휴업시작일자     1055 non-null    float64\n",
      " 12  휴업종료일자     1147 non-null    float64\n",
      " 13  재개업일자      0 non-null       float64\n",
      " 14  소재지전화      106277 non-null  object \n",
      " 15  소재지면적      0 non-null       float64\n",
      " 16  소재지우편번호    57403 non-null   object \n",
      " 17  소재지전체주소    101019 non-null  object \n",
      " 18  도로명전체주소    100889 non-null  object \n",
      " 19  도로명우편번호    92894 non-null   object \n",
      " 20  사업장명       113828 non-null  object \n",
      " 21  최종수정시점     113828 non-null  object \n",
      " 22  데이터갱신구분    113828 non-null  object \n",
      " 23  데이터갱신일자    113828 non-null  object \n",
      " 24  업태구분명      113828 non-null  object \n",
      " 25  좌표정보(x)    99679 non-null   object \n",
      " 26  좌표정보(y)    99679 non-null   float64\n",
      " 27  의료기관종별명    111943 non-null  object \n",
      " 28  의료인수       111943 non-null  object \n",
      " 29  입원실수       111943 non-null  float64\n",
      " 30  병상수        111943 non-null  float64\n",
      " 31  총면적        111943 non-null  float64\n",
      " 32  진료과목내용     110341 non-null  object \n",
      " 33  진료과목내용명    110341 non-null  object \n",
      " 34  지정취소일자     1 non-null       object \n",
      " 35  완화의료지정형태   0 non-null       float64\n",
      " 36  완화의료담당부서명  0 non-null       float64\n",
      " 37  구급차특수      111942 non-null  float64\n",
      " 38  구급차일반      111943 non-null  float64\n",
      " 39  총인원        1 non-null       float64\n",
      " 40  구조사수       0 non-null       float64\n",
      " 41  허가병상수      111942 non-null  float64\n",
      " 42  최초지정일자     1 non-null       float64\n",
      "dtypes: float64(18), int64(4), object(21)\n",
      "memory usage: 38.2+ MB\n"
     ]
    }
   ],
   "source": [
    "df.info()"
   ]
  },
  {
   "cell_type": "code",
   "execution_count": 8,
   "id": "940e1dbc",
   "metadata": {},
   "outputs": [
    {
     "name": "stdout",
     "output_type": "stream",
     "text": [
      "object\n",
      "float64\n",
      "float64\n"
     ]
    }
   ],
   "source": [
    "print(df['의료인수'].dtypes)\n",
    "print(df['입원실수'].dtypes)\n",
    "print(df['병상수'].dtypes)"
   ]
  },
  {
   "cell_type": "code",
   "execution_count": 9,
   "id": "87704306",
   "metadata": {},
   "outputs": [
    {
     "data": {
      "text/plain": [
       "Int64Index([94794], dtype='int64', name='번호')"
      ]
     },
     "execution_count": 9,
     "metadata": {},
     "output_type": "execute_result"
    }
   ],
   "source": [
    "df[df['의료인수'] == '한의원'].index"
   ]
  },
  {
   "cell_type": "code",
   "execution_count": 10,
   "id": "2800a695",
   "metadata": {},
   "outputs": [
    {
     "data": {
      "text/plain": [
       "array([1.0, 2.0, 4.0, 3.0, 5.0, 7.0, 14.0, 8.0, 10.0, 6.0, 15.0, 0.0, nan,\n",
       "       12.0, 30.0, 33.0, 13.0, 16.0, 26.0, 17.0, 11.0, 9.0, 23.0, 64.0,\n",
       "       70.0, 36.0, 39.0, 66.0, 24.0, 20.0, 160.0, 53.0, 22.0, 46.0, 19.0,\n",
       "       25.0, 18.0, 29.0, 52.0, 92.0, 21.0, 34.0, 27.0, 31.0, 40.0, 45.0,\n",
       "       41.0, 49.0, 44.0, 42.0, 59.0, 60.0, 62.0, 65.0, 68.0, 32.0, 28.0,\n",
       "       56.0, 103.0, 63.0, 38.0, 37.0, 69.0, 159.0, 51.0, 54.0, 77.0, 35.0,\n",
       "       81.0, 55.0, '1', '2', '0', '3', '4', '5', '6', '8', '17', '12',\n",
       "       '11', '7', '9', '15', '14', '10', '56', '13', '16', '48', '19',\n",
       "       '25', '27', '22', '47', '34', '18', '한의원', '23', -1.0, 115.0, 43.0],\n",
       "      dtype=object)"
      ]
     },
     "execution_count": 10,
     "metadata": {},
     "output_type": "execute_result"
    }
   ],
   "source": [
    "df['의료인수'].iloc[94793]\n",
    "df['의료인수'].unique()"
   ]
  },
  {
   "cell_type": "code",
   "execution_count": 11,
   "id": "3233b75d",
   "metadata": {},
   "outputs": [
    {
     "data": {
      "text/plain": [
       "array([1.0, 2.0, 4.0, 3.0, 5.0, 7.0, 14.0, 8.0, 10.0, 6.0, 15.0, 0.0, nan,\n",
       "       12.0, 30.0, 33.0, 13.0, 16.0, 26.0, 17.0, 11.0, 9.0, 23.0, 64.0,\n",
       "       70.0, 36.0, 39.0, 66.0, 24.0, 20.0, 160.0, 53.0, 22.0, 46.0, 19.0,\n",
       "       25.0, 18.0, 29.0, 52.0, 92.0, 21.0, 34.0, 27.0, 31.0, 40.0, 45.0,\n",
       "       41.0, 49.0, 44.0, 42.0, 59.0, 60.0, 62.0, 65.0, 68.0, 32.0, 28.0,\n",
       "       56.0, 103.0, 63.0, 38.0, 37.0, 69.0, 159.0, 51.0, 54.0, 77.0, 35.0,\n",
       "       81.0, 55.0, '1', '2', '0', '3', '4', '5', '6', '8', '17', '12',\n",
       "       '11', '7', '9', '15', '14', '10', '56', '13', '16', '48', '19',\n",
       "       '25', '27', '22', '47', '34', '18', '23', -1.0, 115.0, 43.0],\n",
       "      dtype=object)"
      ]
     },
     "execution_count": 11,
     "metadata": {},
     "output_type": "execute_result"
    }
   ],
   "source": [
    "df.drop(index= df[df['의료인수'] == '한의원'].index, inplace= True)\n",
    "df['의료인수'].unique()"
   ]
  },
  {
   "cell_type": "code",
   "execution_count": 12,
   "id": "efe29050",
   "metadata": {},
   "outputs": [
    {
     "data": {
      "text/plain": [
       "False    111942\n",
       "True       1885\n",
       "Name: 의료인수, dtype: int64"
      ]
     },
     "execution_count": 12,
     "metadata": {},
     "output_type": "execute_result"
    }
   ],
   "source": [
    "df['의료인수'].fillna(0)\n",
    "df['의료인수'].isnull().value_counts()"
   ]
  },
  {
   "cell_type": "code",
   "execution_count": 13,
   "id": "a573c6d8",
   "metadata": {},
   "outputs": [
    {
     "data": {
      "text/plain": [
       "dtype('float64')"
      ]
     },
     "execution_count": 13,
     "metadata": {},
     "output_type": "execute_result"
    }
   ],
   "source": [
    "df['의료인수'] = pd.to_numeric(df['의료인수'])\n",
    "df['의료인수'].dtypes"
   ]
  },
  {
   "cell_type": "code",
   "execution_count": 14,
   "id": "ef9958f2",
   "metadata": {},
   "outputs": [
    {
     "name": "stdout",
     "output_type": "stream",
     "text": [
      "<class 'pandas.core.frame.DataFrame'>\n",
      "Int64Index: 113827 entries, 1 to 113828\n",
      "Data columns (total 43 columns):\n",
      " #   Column     Non-Null Count   Dtype  \n",
      "---  ------     --------------   -----  \n",
      " 0   개방서비스명     113827 non-null  object \n",
      " 1   개방서비스아이디   113827 non-null  object \n",
      " 2   개방자치단체코드   113827 non-null  int64  \n",
      " 3   관리번호       113827 non-null  object \n",
      " 4   인허가일자      113827 non-null  int64  \n",
      " 5   인허가취소일자    0 non-null       float64\n",
      " 6   영업상태구분코드   113827 non-null  int64  \n",
      " 7   영업상태명      113827 non-null  object \n",
      " 8   상세영업상태코드   113827 non-null  int64  \n",
      " 9   상세영업상태명    113827 non-null  object \n",
      " 10  폐업일자       41294 non-null   float64\n",
      " 11  휴업시작일자     1055 non-null    float64\n",
      " 12  휴업종료일자     1147 non-null    float64\n",
      " 13  재개업일자      0 non-null       float64\n",
      " 14  소재지전화      106276 non-null  object \n",
      " 15  소재지면적      0 non-null       float64\n",
      " 16  소재지우편번호    57403 non-null   object \n",
      " 17  소재지전체주소    101018 non-null  object \n",
      " 18  도로명전체주소    100888 non-null  object \n",
      " 19  도로명우편번호    92893 non-null   object \n",
      " 20  사업장명       113827 non-null  object \n",
      " 21  최종수정시점     113827 non-null  object \n",
      " 22  데이터갱신구분    113827 non-null  object \n",
      " 23  데이터갱신일자    113827 non-null  object \n",
      " 24  업태구분명      113827 non-null  object \n",
      " 25  좌표정보(x)    99678 non-null   object \n",
      " 26  좌표정보(y)    99678 non-null   float64\n",
      " 27  의료기관종별명    111942 non-null  object \n",
      " 28  의료인수       111942 non-null  float64\n",
      " 29  입원실수       111942 non-null  float64\n",
      " 30  병상수        111942 non-null  float64\n",
      " 31  총면적        111942 non-null  float64\n",
      " 32  진료과목내용     110340 non-null  object \n",
      " 33  진료과목내용명    110340 non-null  object \n",
      " 34  지정취소일자     0 non-null       object \n",
      " 35  완화의료지정형태   0 non-null       float64\n",
      " 36  완화의료담당부서명  0 non-null       float64\n",
      " 37  구급차특수      111942 non-null  float64\n",
      " 38  구급차일반      111942 non-null  float64\n",
      " 39  총인원        0 non-null       float64\n",
      " 40  구조사수       0 non-null       float64\n",
      " 41  허가병상수      111942 non-null  float64\n",
      " 42  최초지정일자     0 non-null       float64\n",
      "dtypes: float64(19), int64(4), object(20)\n",
      "memory usage: 38.2+ MB\n"
     ]
    }
   ],
   "source": [
    "df['의료인수'] = df['의료인수'].astype(float)\n",
    "df['입원실수'] = df['입원실수'].astype(float)\n",
    "df['병상수'] = df['병상수'].astype(float)\n",
    "df.info()"
   ]
  },
  {
   "cell_type": "code",
   "execution_count": 15,
   "id": "c36a0069",
   "metadata": {},
   "outputs": [
    {
     "ename": "IntCastingNaNError",
     "evalue": "Cannot convert non-finite values (NA or inf) to integer",
     "output_type": "error",
     "traceback": [
      "\u001b[0;31m---------------------------------------------------------------------------\u001b[0m",
      "\u001b[0;31mIntCastingNaNError\u001b[0m                        Traceback (most recent call last)",
      "\u001b[1;32m/Users/geun/Desktop/CodeLion/data/spring-boot-hospital-api/Data_Preprocessing.ipynb 셀 15\u001b[0m in \u001b[0;36m<cell line: 1>\u001b[0;34m()\u001b[0m\n\u001b[0;32m----> <a href='vscode-notebook-cell:/Users/geun/Desktop/CodeLion/data/spring-boot-hospital-api/Data_Preprocessing.ipynb#X10sZmlsZQ%3D%3D?line=0'>1</a>\u001b[0m df \u001b[39m=\u001b[39m df\u001b[39m.\u001b[39;49mastype({\u001b[39m'\u001b[39;49m\u001b[39m의료인수\u001b[39;49m\u001b[39m'\u001b[39;49m : \u001b[39mint\u001b[39;49m, \n\u001b[1;32m      <a href='vscode-notebook-cell:/Users/geun/Desktop/CodeLion/data/spring-boot-hospital-api/Data_Preprocessing.ipynb#X10sZmlsZQ%3D%3D?line=1'>2</a>\u001b[0m                 \u001b[39m'\u001b[39;49m\u001b[39m입원실수\u001b[39;49m\u001b[39m'\u001b[39;49m : \u001b[39mint\u001b[39;49m,\n\u001b[1;32m      <a href='vscode-notebook-cell:/Users/geun/Desktop/CodeLion/data/spring-boot-hospital-api/Data_Preprocessing.ipynb#X10sZmlsZQ%3D%3D?line=2'>3</a>\u001b[0m                 \u001b[39m'\u001b[39;49m\u001b[39m병상수\u001b[39;49m\u001b[39m'\u001b[39;49m : \u001b[39mint\u001b[39;49m,\n\u001b[1;32m      <a href='vscode-notebook-cell:/Users/geun/Desktop/CodeLion/data/spring-boot-hospital-api/Data_Preprocessing.ipynb#X10sZmlsZQ%3D%3D?line=3'>4</a>\u001b[0m                 })\n\u001b[1;32m      <a href='vscode-notebook-cell:/Users/geun/Desktop/CodeLion/data/spring-boot-hospital-api/Data_Preprocessing.ipynb#X10sZmlsZQ%3D%3D?line=5'>6</a>\u001b[0m df\u001b[39m.\u001b[39mhead()\n",
      "File \u001b[0;32m~/miniforge3/envs/jupyter/lib/python3.8/site-packages/pandas/core/generic.py:5898\u001b[0m, in \u001b[0;36mNDFrame.astype\u001b[0;34m(self, dtype, copy, errors)\u001b[0m\n\u001b[1;32m   5896\u001b[0m             res_col \u001b[39m=\u001b[39m col\u001b[39m.\u001b[39mcopy() \u001b[39mif\u001b[39;00m copy \u001b[39melse\u001b[39;00m col\n\u001b[1;32m   5897\u001b[0m         \u001b[39melse\u001b[39;00m:\n\u001b[0;32m-> 5898\u001b[0m             res_col \u001b[39m=\u001b[39m col\u001b[39m.\u001b[39;49mastype(dtype\u001b[39m=\u001b[39;49mcdt, copy\u001b[39m=\u001b[39;49mcopy, errors\u001b[39m=\u001b[39;49merrors)\n\u001b[1;32m   5899\u001b[0m         results\u001b[39m.\u001b[39mappend(res_col)\n\u001b[1;32m   5901\u001b[0m \u001b[39melif\u001b[39;00m is_extension_array_dtype(dtype) \u001b[39mand\u001b[39;00m \u001b[39mself\u001b[39m\u001b[39m.\u001b[39mndim \u001b[39m>\u001b[39m \u001b[39m1\u001b[39m:\n\u001b[1;32m   5902\u001b[0m     \u001b[39m# GH 18099/22869: columnwise conversion to extension dtype\u001b[39;00m\n\u001b[1;32m   5903\u001b[0m     \u001b[39m# GH 24704: use iloc to handle duplicate column names\u001b[39;00m\n\u001b[1;32m   5904\u001b[0m     \u001b[39m# TODO(EA2D): special case not needed with 2D EAs\u001b[39;00m\n",
      "File \u001b[0;32m~/miniforge3/envs/jupyter/lib/python3.8/site-packages/pandas/core/generic.py:5912\u001b[0m, in \u001b[0;36mNDFrame.astype\u001b[0;34m(self, dtype, copy, errors)\u001b[0m\n\u001b[1;32m   5905\u001b[0m     results \u001b[39m=\u001b[39m [\n\u001b[1;32m   5906\u001b[0m         \u001b[39mself\u001b[39m\u001b[39m.\u001b[39miloc[:, i]\u001b[39m.\u001b[39mastype(dtype, copy\u001b[39m=\u001b[39mcopy)\n\u001b[1;32m   5907\u001b[0m         \u001b[39mfor\u001b[39;00m i \u001b[39min\u001b[39;00m \u001b[39mrange\u001b[39m(\u001b[39mlen\u001b[39m(\u001b[39mself\u001b[39m\u001b[39m.\u001b[39mcolumns))\n\u001b[1;32m   5908\u001b[0m     ]\n\u001b[1;32m   5910\u001b[0m \u001b[39melse\u001b[39;00m:\n\u001b[1;32m   5911\u001b[0m     \u001b[39m# else, only a single dtype is given\u001b[39;00m\n\u001b[0;32m-> 5912\u001b[0m     new_data \u001b[39m=\u001b[39m \u001b[39mself\u001b[39;49m\u001b[39m.\u001b[39;49m_mgr\u001b[39m.\u001b[39;49mastype(dtype\u001b[39m=\u001b[39;49mdtype, copy\u001b[39m=\u001b[39;49mcopy, errors\u001b[39m=\u001b[39;49merrors)\n\u001b[1;32m   5913\u001b[0m     \u001b[39mreturn\u001b[39;00m \u001b[39mself\u001b[39m\u001b[39m.\u001b[39m_constructor(new_data)\u001b[39m.\u001b[39m__finalize__(\u001b[39mself\u001b[39m, method\u001b[39m=\u001b[39m\u001b[39m\"\u001b[39m\u001b[39mastype\u001b[39m\u001b[39m\"\u001b[39m)\n\u001b[1;32m   5915\u001b[0m \u001b[39m# GH 33113: handle empty frame or series\u001b[39;00m\n",
      "File \u001b[0;32m~/miniforge3/envs/jupyter/lib/python3.8/site-packages/pandas/core/internals/managers.py:419\u001b[0m, in \u001b[0;36mBaseBlockManager.astype\u001b[0;34m(self, dtype, copy, errors)\u001b[0m\n\u001b[1;32m    418\u001b[0m \u001b[39mdef\u001b[39;00m \u001b[39mastype\u001b[39m(\u001b[39mself\u001b[39m: T, dtype, copy: \u001b[39mbool\u001b[39m \u001b[39m=\u001b[39m \u001b[39mFalse\u001b[39;00m, errors: \u001b[39mstr\u001b[39m \u001b[39m=\u001b[39m \u001b[39m\"\u001b[39m\u001b[39mraise\u001b[39m\u001b[39m\"\u001b[39m) \u001b[39m-\u001b[39m\u001b[39m>\u001b[39m T:\n\u001b[0;32m--> 419\u001b[0m     \u001b[39mreturn\u001b[39;00m \u001b[39mself\u001b[39;49m\u001b[39m.\u001b[39;49mapply(\u001b[39m\"\u001b[39;49m\u001b[39mastype\u001b[39;49m\u001b[39m\"\u001b[39;49m, dtype\u001b[39m=\u001b[39;49mdtype, copy\u001b[39m=\u001b[39;49mcopy, errors\u001b[39m=\u001b[39;49merrors)\n",
      "File \u001b[0;32m~/miniforge3/envs/jupyter/lib/python3.8/site-packages/pandas/core/internals/managers.py:304\u001b[0m, in \u001b[0;36mBaseBlockManager.apply\u001b[0;34m(self, f, align_keys, ignore_failures, **kwargs)\u001b[0m\n\u001b[1;32m    302\u001b[0m         applied \u001b[39m=\u001b[39m b\u001b[39m.\u001b[39mapply(f, \u001b[39m*\u001b[39m\u001b[39m*\u001b[39mkwargs)\n\u001b[1;32m    303\u001b[0m     \u001b[39melse\u001b[39;00m:\n\u001b[0;32m--> 304\u001b[0m         applied \u001b[39m=\u001b[39m \u001b[39mgetattr\u001b[39;49m(b, f)(\u001b[39m*\u001b[39;49m\u001b[39m*\u001b[39;49mkwargs)\n\u001b[1;32m    305\u001b[0m \u001b[39mexcept\u001b[39;00m (\u001b[39mTypeError\u001b[39;00m, \u001b[39mNotImplementedError\u001b[39;00m):\n\u001b[1;32m    306\u001b[0m     \u001b[39mif\u001b[39;00m \u001b[39mnot\u001b[39;00m ignore_failures:\n",
      "File \u001b[0;32m~/miniforge3/envs/jupyter/lib/python3.8/site-packages/pandas/core/internals/blocks.py:580\u001b[0m, in \u001b[0;36mBlock.astype\u001b[0;34m(self, dtype, copy, errors)\u001b[0m\n\u001b[1;32m    562\u001b[0m \u001b[39m\"\"\"\u001b[39;00m\n\u001b[1;32m    563\u001b[0m \u001b[39mCoerce to the new dtype.\u001b[39;00m\n\u001b[1;32m    564\u001b[0m \n\u001b[0;32m   (...)\u001b[0m\n\u001b[1;32m    576\u001b[0m \u001b[39mBlock\u001b[39;00m\n\u001b[1;32m    577\u001b[0m \u001b[39m\"\"\"\u001b[39;00m\n\u001b[1;32m    578\u001b[0m values \u001b[39m=\u001b[39m \u001b[39mself\u001b[39m\u001b[39m.\u001b[39mvalues\n\u001b[0;32m--> 580\u001b[0m new_values \u001b[39m=\u001b[39m astype_array_safe(values, dtype, copy\u001b[39m=\u001b[39;49mcopy, errors\u001b[39m=\u001b[39;49merrors)\n\u001b[1;32m    582\u001b[0m new_values \u001b[39m=\u001b[39m maybe_coerce_values(new_values)\n\u001b[1;32m    583\u001b[0m newb \u001b[39m=\u001b[39m \u001b[39mself\u001b[39m\u001b[39m.\u001b[39mmake_block(new_values)\n",
      "File \u001b[0;32m~/miniforge3/envs/jupyter/lib/python3.8/site-packages/pandas/core/dtypes/cast.py:1292\u001b[0m, in \u001b[0;36mastype_array_safe\u001b[0;34m(values, dtype, copy, errors)\u001b[0m\n\u001b[1;32m   1289\u001b[0m     dtype \u001b[39m=\u001b[39m dtype\u001b[39m.\u001b[39mnumpy_dtype\n\u001b[1;32m   1291\u001b[0m \u001b[39mtry\u001b[39;00m:\n\u001b[0;32m-> 1292\u001b[0m     new_values \u001b[39m=\u001b[39m astype_array(values, dtype, copy\u001b[39m=\u001b[39;49mcopy)\n\u001b[1;32m   1293\u001b[0m \u001b[39mexcept\u001b[39;00m (\u001b[39mValueError\u001b[39;00m, \u001b[39mTypeError\u001b[39;00m):\n\u001b[1;32m   1294\u001b[0m     \u001b[39m# e.g. astype_nansafe can fail on object-dtype of strings\u001b[39;00m\n\u001b[1;32m   1295\u001b[0m     \u001b[39m#  trying to convert to float\u001b[39;00m\n\u001b[1;32m   1296\u001b[0m     \u001b[39mif\u001b[39;00m errors \u001b[39m==\u001b[39m \u001b[39m\"\u001b[39m\u001b[39mignore\u001b[39m\u001b[39m\"\u001b[39m:\n",
      "File \u001b[0;32m~/miniforge3/envs/jupyter/lib/python3.8/site-packages/pandas/core/dtypes/cast.py:1237\u001b[0m, in \u001b[0;36mastype_array\u001b[0;34m(values, dtype, copy)\u001b[0m\n\u001b[1;32m   1234\u001b[0m     values \u001b[39m=\u001b[39m values\u001b[39m.\u001b[39mastype(dtype, copy\u001b[39m=\u001b[39mcopy)\n\u001b[1;32m   1236\u001b[0m \u001b[39melse\u001b[39;00m:\n\u001b[0;32m-> 1237\u001b[0m     values \u001b[39m=\u001b[39m astype_nansafe(values, dtype, copy\u001b[39m=\u001b[39;49mcopy)\n\u001b[1;32m   1239\u001b[0m \u001b[39m# in pandas we don't store numpy str dtypes, so convert to object\u001b[39;00m\n\u001b[1;32m   1240\u001b[0m \u001b[39mif\u001b[39;00m \u001b[39misinstance\u001b[39m(dtype, np\u001b[39m.\u001b[39mdtype) \u001b[39mand\u001b[39;00m \u001b[39missubclass\u001b[39m(values\u001b[39m.\u001b[39mdtype\u001b[39m.\u001b[39mtype, \u001b[39mstr\u001b[39m):\n",
      "File \u001b[0;32m~/miniforge3/envs/jupyter/lib/python3.8/site-packages/pandas/core/dtypes/cast.py:1148\u001b[0m, in \u001b[0;36mastype_nansafe\u001b[0;34m(arr, dtype, copy, skipna)\u001b[0m\n\u001b[1;32m   1145\u001b[0m     \u001b[39mraise\u001b[39;00m \u001b[39mTypeError\u001b[39;00m(\u001b[39mf\u001b[39m\u001b[39m\"\u001b[39m\u001b[39mcannot astype a timedelta from [\u001b[39m\u001b[39m{\u001b[39;00marr\u001b[39m.\u001b[39mdtype\u001b[39m}\u001b[39;00m\u001b[39m] to [\u001b[39m\u001b[39m{\u001b[39;00mdtype\u001b[39m}\u001b[39;00m\u001b[39m]\u001b[39m\u001b[39m\"\u001b[39m)\n\u001b[1;32m   1147\u001b[0m \u001b[39melif\u001b[39;00m np\u001b[39m.\u001b[39missubdtype(arr\u001b[39m.\u001b[39mdtype, np\u001b[39m.\u001b[39mfloating) \u001b[39mand\u001b[39;00m np\u001b[39m.\u001b[39missubdtype(dtype, np\u001b[39m.\u001b[39minteger):\n\u001b[0;32m-> 1148\u001b[0m     \u001b[39mreturn\u001b[39;00m astype_float_to_int_nansafe(arr, dtype, copy)\n\u001b[1;32m   1150\u001b[0m \u001b[39melif\u001b[39;00m is_object_dtype(arr\u001b[39m.\u001b[39mdtype):\n\u001b[1;32m   1151\u001b[0m \n\u001b[1;32m   1152\u001b[0m     \u001b[39m# work around NumPy brokenness, #1987\u001b[39;00m\n\u001b[1;32m   1153\u001b[0m     \u001b[39mif\u001b[39;00m np\u001b[39m.\u001b[39missubdtype(dtype\u001b[39m.\u001b[39mtype, np\u001b[39m.\u001b[39minteger):\n",
      "File \u001b[0;32m~/miniforge3/envs/jupyter/lib/python3.8/site-packages/pandas/core/dtypes/cast.py:1193\u001b[0m, in \u001b[0;36mastype_float_to_int_nansafe\u001b[0;34m(values, dtype, copy)\u001b[0m\n\u001b[1;32m   1189\u001b[0m \u001b[39m\"\"\"\u001b[39;00m\n\u001b[1;32m   1190\u001b[0m \u001b[39mastype with a check preventing converting NaN to an meaningless integer value.\u001b[39;00m\n\u001b[1;32m   1191\u001b[0m \u001b[39m\"\"\"\u001b[39;00m\n\u001b[1;32m   1192\u001b[0m \u001b[39mif\u001b[39;00m \u001b[39mnot\u001b[39;00m np\u001b[39m.\u001b[39misfinite(values)\u001b[39m.\u001b[39mall():\n\u001b[0;32m-> 1193\u001b[0m     \u001b[39mraise\u001b[39;00m IntCastingNaNError(\n\u001b[1;32m   1194\u001b[0m         \u001b[39m\"\u001b[39m\u001b[39mCannot convert non-finite values (NA or inf) to integer\u001b[39m\u001b[39m\"\u001b[39m\n\u001b[1;32m   1195\u001b[0m     )\n\u001b[1;32m   1196\u001b[0m \u001b[39mreturn\u001b[39;00m values\u001b[39m.\u001b[39mastype(dtype, copy\u001b[39m=\u001b[39mcopy)\n",
      "\u001b[0;31mIntCastingNaNError\u001b[0m: Cannot convert non-finite values (NA or inf) to integer"
     ]
    }
   ],
   "source": [
    "df = df.astype({'의료인수' : int, \n",
    "                '입원실수' : int,\n",
    "                '병상수' : int,\n",
    "                })\n",
    "\n",
    "df.head()"
   ]
  },
  {
   "cell_type": "code",
   "execution_count": 16,
   "id": "b9c2fdca",
   "metadata": {},
   "outputs": [],
   "source": [
    "df['의료인수'] = df['의료인수'].fillna(-999).astype('int8').replace({-999: None})\n",
    "df['입원실수'] = df['입원실수'].fillna(-999).astype('int8').replace({-999: None})\n",
    "df['병상수'] = df['병상수'].fillna(-999).astype('int8').replace({-999: None})"
   ]
  },
  {
   "cell_type": "code",
   "execution_count": 23,
   "id": "af63618c",
   "metadata": {},
   "outputs": [
    {
     "name": "stdout",
     "output_type": "stream",
     "text": [
      "의료인수    object\n",
      "입원실수    object\n",
      "병상수     object\n",
      "dtype: object\n",
      "[1 2 4 3 5 7 14 8 10 6 15 0 25 12 30 33 13 16 26 17 11 9 23 64 70 36 39 66\n",
      " 24 20 -96 53 22 46 19 18 29 52 92 21 34 27 31 40 45 41 49 44 42 59 60 62\n",
      " 65 68 32 28 56 103 63 38 37 69 -97 51 54 77 35 81 55 48 47 -1 115 43]\n",
      "[0 6 1 8 2 4 3 9 5 13 11 7 10 14 15 25 29 12 21 16 17 18 20 26 19 24 23 28\n",
      " 22 62 30 -108 84 27 33]\n",
      "[0 28 1 10 3 9 6 22 26 11 27 25 29 14 21 17 7 8 49 5 20 15 19 23 2 4 12 24\n",
      " 18 16 42 13 33 34 30 47 52 48 40 44 37 46 35 -78 -127 38 -40 86 39 45 54\n",
      " 41 43 32 36 70 90]\n"
     ]
    }
   ],
   "source": [
    "print(df[['의료인수', '입원실수', '병상수']].dtypes)\n",
    "print(df['의료인수'].unique())\n",
    "print(df['입원실수'].unique())\n",
    "print(df['병상수'].unique())\n"
   ]
  },
  {
   "cell_type": "code",
   "execution_count": 24,
   "id": "e045da2f",
   "metadata": {},
   "outputs": [
    {
     "data": {
      "text/plain": [
       "dtype('int64')"
      ]
     },
     "execution_count": 24,
     "metadata": {},
     "output_type": "execute_result"
    }
   ],
   "source": [
    "df['의료인수'] = pd.to_numeric(df['의료인수'])\n",
    "df['의료인수'].dtypes"
   ]
  },
  {
   "cell_type": "code",
   "execution_count": 28,
   "id": "c6da8e23",
   "metadata": {},
   "outputs": [
    {
     "name": "stdout",
     "output_type": "stream",
     "text": [
      "입원실수    int64\n",
      "dtype: object\n",
      "병상수    int64\n",
      "dtype: object\n"
     ]
    }
   ],
   "source": [
    "df['입원실수'] = pd.to_numeric(df['입원실수'])\n",
    "print(df[['입원실수']].dtypes)\n",
    "df['병상수'] = pd.to_numeric(df['병상수'])\n",
    "print(df[['병상수']].dtypes)\n"
   ]
  },
  {
   "cell_type": "code",
   "execution_count": 30,
   "id": "50245c69",
   "metadata": {},
   "outputs": [
    {
     "name": "stdout",
     "output_type": "stream",
     "text": [
      "<class 'pandas.core.series.Series'>\n",
      "Int64Index: 113827 entries, 1 to 113828\n",
      "Series name: 의료인수\n",
      "Non-Null Count   Dtype\n",
      "--------------   -----\n",
      "113827 non-null  int64\n",
      "dtypes: int64(1)\n",
      "memory usage: 1.7 MB\n",
      "None\n",
      "<class 'pandas.core.series.Series'>\n",
      "Int64Index: 113827 entries, 1 to 113828\n",
      "Series name: 입원실수\n",
      "Non-Null Count   Dtype\n",
      "--------------   -----\n",
      "113827 non-null  int64\n",
      "dtypes: int64(1)\n",
      "memory usage: 1.7 MB\n",
      "None\n",
      "<class 'pandas.core.series.Series'>\n",
      "Int64Index: 113827 entries, 1 to 113828\n",
      "Series name: 병상수\n",
      "Non-Null Count   Dtype\n",
      "--------------   -----\n",
      "113827 non-null  int64\n",
      "dtypes: int64(1)\n",
      "memory usage: 1.7 MB\n",
      "None\n"
     ]
    }
   ],
   "source": [
    "print(df['의료인수'].info())\n",
    "print(df['입원실수'].info())\n",
    "print(df['병상수'].info())"
   ]
  },
  {
   "cell_type": "code",
   "execution_count": 31,
   "id": "a455a9da",
   "metadata": {},
   "outputs": [],
   "source": [
    "df.to_csv('./PreprocessedHospitalData.csv')"
   ]
  },
  {
   "cell_type": "code",
   "execution_count": 37,
   "id": "bdc51fb4",
   "metadata": {},
   "outputs": [
    {
     "name": "stderr",
     "output_type": "stream",
     "text": [
      "/var/folders/lm/n8nzmr_n7vgg9l0b5737gqrm0000gn/T/ipykernel_27271/1788438105.py:1: DtypeWarning: Columns (17) have mixed types. Specify dtype option on import or set low_memory=False.\n",
      "  df = pd.read_csv(\"./PreprocessedHospitalData.csv\", index_col=0)\n"
     ]
    }
   ],
   "source": [
    "df = pd.read_csv(\"./PreprocessedHospitalData.csv\", encoding='utf-8', index_col=0)"
   ]
  },
  {
   "cell_type": "code",
   "execution_count": 38,
   "id": "8603b81f",
   "metadata": {},
   "outputs": [
    {
     "data": {
      "text/plain": [
       "의료인수    int64\n",
       "입원실수    int64\n",
       "병상수     int64\n",
       "dtype: object"
      ]
     },
     "execution_count": 38,
     "metadata": {},
     "output_type": "execute_result"
    }
   ],
   "source": [
    "df[['의료인수', '입원실수', '병상수']].dtypes"
   ]
  },
  {
   "cell_type": "markdown",
   "id": "2acf4427",
   "metadata": {},
   "source": [
    "dataframe에는 int로 찍히지만 java에서 csv를 읽어올 때 object를 float으로 인식해서\n",
    "캐스팅하는 방법으로 전환하였음"
   ]
  },
  {
   "cell_type": "code",
   "execution_count": null,
   "id": "b7542036",
   "metadata": {},
   "outputs": [],
   "source": []
  }
 ],
 "metadata": {
  "kernelspec": {
   "display_name": "Python 3.8.13 ('jupyter')",
   "language": "python",
   "name": "python3"
  },
  "language_info": {
   "codemirror_mode": {
    "name": "ipython",
    "version": 3
   },
   "file_extension": ".py",
   "mimetype": "text/x-python",
   "name": "python",
   "nbconvert_exporter": "python",
   "pygments_lexer": "ipython3",
   "version": "3.8.13"
  },
  "vscode": {
   "interpreter": {
    "hash": "8b5a2dc140a748b3c0593d64dd7e576a45747718c411ae752b05b41c160c08a2"
   }
  }
 },
 "nbformat": 4,
 "nbformat_minor": 5
}
