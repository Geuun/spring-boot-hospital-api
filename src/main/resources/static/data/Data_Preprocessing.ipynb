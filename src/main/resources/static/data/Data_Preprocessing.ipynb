{
 "cells": [
  {
   "cell_type": "code",
   "execution_count": 26,
   "metadata": {},
   "outputs": [],
   "source": [
    "import numpy as np\n",
    "import pandas as pd"
   ]
  },
  {
   "cell_type": "code",
   "execution_count": 27,
   "id": "86cefd7b",
   "metadata": {},
   "outputs": [
    {
     "name": "stderr",
     "output_type": "stream",
     "text": [
      "/var/folders/lm/n8nzmr_n7vgg9l0b5737gqrm0000gn/T/ipykernel_17027/1818032380.py:4: DtypeWarning: Columns (17,20,22,26,29,35) have mixed types. Specify dtype option on import or set low_memory=False.\n",
      "  df = pd.read_csv(\"./fulldata_01_01_02_P_의원.csv\", encoding='utf-8', index_col=0)\n"
     ]
    }
   ],
   "source": [
    "from codecs import utf_8_encode\n",
    "\n",
    "\n",
    "df = pd.read_csv(\"./fulldata_01_01_02_P_의원.csv\", encoding='utf-8', index_col=0)"
   ]
  },
  {
   "cell_type": "code",
   "execution_count": 28,
   "id": "6bd00c96",
   "metadata": {},
   "outputs": [
    {
     "data": {
      "text/plain": [
       "Index(['개방서비스명', '개방서비스아이디', '개방자치단체코드', '관리번호', '인허가일자', '인허가취소일자',\n",
       "       '영업상태구분코드', '영업상태명', '상세영업상태코드', '상세영업상태명', '폐업일자', '휴업시작일자', '휴업종료일자',\n",
       "       '재개업일자', '소재지전화', '소재지면적', '소재지우편번호', '소재지전체주소', '도로명전체주소', '도로명우편번호',\n",
       "       '사업장명', '최종수정시점', '데이터갱신구분', '데이터갱신일자', '업태구분명', '좌표정보(x)', '좌표정보(y)',\n",
       "       '의료기관종별명', '의료인수', '입원실수', '병상수', '총면적', '진료과목내용', '진료과목내용명', '지정취소일자',\n",
       "       '완화의료지정형태', '완화의료담당부서명', '구급차특수', '구급차일반', '총인원', '구조사수', '허가병상수',\n",
       "       '최초지정일자'],\n",
       "      dtype='object')"
      ]
     },
     "execution_count": 28,
     "metadata": {},
     "output_type": "execute_result"
    }
   ],
   "source": [
    "df.columns"
   ]
  },
  {
   "cell_type": "code",
   "execution_count": 29,
   "id": "041468d5",
   "metadata": {},
   "outputs": [],
   "source": [
    "\n",
    "total_address = df['도로명전체주소'].str.replace(',', '')"
   ]
  },
  {
   "cell_type": "code",
   "execution_count": 30,
   "id": "f9883dbc",
   "metadata": {},
   "outputs": [
    {
     "data": {
      "text/plain": [
       "번호\n",
       "1                 광주광역시 북구 동문대로 24 3층 (풍향동)\n",
       "2                 광주광역시 북구 설죽로 518 2층 (일곡동)\n",
       "3                 광주광역시 북구 설죽로 495 3층 (일곡동)\n",
       "4              광주광역시 북구 임방울대로 1063 4층 (용두동)\n",
       "5         광주광역시 북구 설죽로 565 2층 (일곡동 한국아파트상가)\n",
       "                        ...                \n",
       "113824           서울특별시 영등포구 도림로 227-1 (신길동)\n",
       "113825                                  NaN\n",
       "113826     충청남도 천안시 동남구 만남로 52 문타워 7층 (신부동)\n",
       "113827         인천광역시 남동구 서창남순환로 56 3층 (서창동)\n",
       "113828     서울특별시 강남구 논현로 848 서경대학교 8층 (신사동)\n",
       "Name: 도로명전체주소, Length: 113828, dtype: object"
      ]
     },
     "execution_count": 30,
     "metadata": {},
     "output_type": "execute_result"
    }
   ],
   "source": [
    "df[\"도로명전체주소\"] = total_address\n",
    "df[\"도로명전체주소\"]"
   ]
  },
  {
   "cell_type": "code",
   "execution_count": 31,
   "id": "8a9e02ee",
   "metadata": {},
   "outputs": [],
   "source": [
    "df.to_csv(\"./PreprocessedHospitalData.csv\", encoding='utf-8')"
   ]
  },
  {
   "cell_type": "code",
   "execution_count": null,
   "id": "db11289e",
   "metadata": {},
   "outputs": [],
   "source": []
  }
 ],
 "metadata": {
  "kernelspec": {
   "display_name": "Python 3.8.13 ('jupyter')",
   "language": "python",
   "name": "python3"
  },
  "language_info": {
   "codemirror_mode": {
    "name": "ipython",
    "version": 3
   },
   "file_extension": ".py",
   "mimetype": "text/x-python",
   "name": "python",
   "nbconvert_exporter": "python",
   "pygments_lexer": "ipython3",
   "version": "3.8.13"
  },
  "vscode": {
   "interpreter": {
    "hash": "8b5a2dc140a748b3c0593d64dd7e576a45747718c411ae752b05b41c160c08a2"
   }
  }
 },
 "nbformat": 4,
 "nbformat_minor": 5
}
